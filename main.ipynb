{
 "cells": [
  {
   "cell_type": "markdown",
   "metadata": {},
   "source": [
    "### 1. Simulate a p-stack machine with a dynamical system over $\\mathbb{Q}^{s+p}$\n",
    "Without loss of generality, we let $p=2$ as all other machines are polynomially equivalent.\n",
    "\n",
    "Given, $\\mathcal{M} = (S, s_I, s_H, \\theta_{0}, \\theta_{1}, \\theta_{2}, \\ldots, \\theta_{p})$\n",
    "$$ \\theta_{0} : S \\times \\{0,1\\}^{2p} \\rightarrow S $$\n",
    "$$ \\theta_{i} : S \\times \\{0,1\\}^{2p} \\rightarrow \\{(1, 0, 0), (1/4,0,1/4), (1/4,0,3/4), (4,-2,-1)\\} $$\n",
    "for $i = 1,..,p$\n",
    "\n",
    "Instantaneous description of  $\\mathcal{M}$ is $\\mathcal{X} := S \\times \\mathcal{C}^p$, where $\\mathcal{C}$ is the \"Cantor 4-set\"\n",
    "\n",
    "The complete dynamics map of $\\mathcal{M}$:\n",
    "$$\\mathcal{P} : \\mathcal{X} \\rightarrow \\mathcal{X}$$\n",
    "is defined as:\n",
    "$$\\mathcal{P} := [ \\theta_{0}(s, a_1,..,a_p, b_1,..,b_p),\n",
    "\\theta_{1}(s, a_1,..,a_p, b_1,..,b_p)\\cdot(q_1, a_1, 1),\n",
    "\\ldots\n",
    "\\theta_{p}(s, a_1,..,a_p, b_1,..,b_p)\\cdot(q_p, a_p, 1),\n",
    "]$$\n"
   ]
  },
  {
   "cell_type": "code",
   "execution_count": 1,
   "metadata": {},
   "outputs": [],
   "source": [
    "from collections import defaultdict as dd\n",
    "from fractions import Fraction\n",
    "import numpy as np\n",
    "\n",
    "s, p = 6, 2\n",
    "state = np.zeros((s))\n",
    "stacks = np.zeros((p))"
   ]
  },
  {
   "cell_type": "code",
   "execution_count": 2,
   "metadata": {},
   "outputs": [
    {
     "name": "stdout",
     "output_type": "stream",
     "text": [
      "(16, 6, 7) (16, 2, 7) (16, 2, 7) 198 25 29\n"
     ]
    }
   ],
   "source": [
    "#Sample beta randomly\n",
    "beta = np.random.rand(2**(2*p), s, s+1)\n",
    "beta[beta > 0.7] = 1\n",
    "beta[beta <= 0.7] = 0\n",
    "beta = beta.astype(int)\n",
    "\n",
    "#Sample gammas randomly\n",
    "gamma = np.random.rand(2**(2*p), p, s+1)\n",
    "gamma1 = np.zeros((2**(2*p), p, s+1), dtype=int)\n",
    "gamma1[gamma < 0.1] = 1 #np.zeros((2**(2*p), p, s+1))\n",
    "\n",
    "gamma2 = np.zeros((2**(2*p), p, s+1), dtype=int)\n",
    "gamma2[gamma > 0.1] = 1\n",
    "gamma2[gamma > 0.2] = 0\n",
    "\n",
    "gamma3 = np.zeros((2**(2*p), p, s+1), dtype=int)\n",
    "gamma3[gamma > 0.2] = 1\n",
    "gamma2[gamma > 0.3] = 0\n",
    "\n",
    "gamma4 = np.zeros((2**(2*p), p, s+1), dtype=int)\n",
    "gamma4[gamma > 0.3] = 1\n",
    "gamma4[gamma > 0.4] = 0\n",
    "\n",
    "print(beta.shape, gamma1.shape, gamma4.shape, beta.sum(), gamma1.sum(), gamma4.sum())\n"
   ]
  },
  {
   "cell_type": "code",
   "execution_count": 3,
   "metadata": {},
   "outputs": [
    {
     "name": "stdout",
     "output_type": "stream",
     "text": [
      "[1. 1. 1. 0. 0. 0.]\n",
      "[0.83496094 0.        ]\n",
      "[1. 0. 0. 1. 0. 1.]\n",
      "[0.95874023 0.        ]\n"
     ]
    }
   ],
   "source": [
    "#input = 10001\n",
    "def delta(binarystring):\n",
    "    result = Fraction(0)\n",
    "    for i, a in enumerate(binarystring):\n",
    "        if a == \"0\":\n",
    "            result += 1 / (4 ** (i+1))\n",
    "        else:\n",
    "            result += 3 / (4 ** (i+1))\n",
    "    return result\n",
    "\n",
    "def sigma(x):\n",
    "    if x <= 0: return 0\n",
    "    if x >= 1: return 1\n",
    "    return x\n",
    "\n",
    "stacks[0] = delta(\"10001\")\n",
    "\n",
    "x_0 = 1 - np.sum(state)\n",
    "state_with_x0 = np.empty((s+1))\n",
    "state_with_x0[0] = x_0\n",
    "state_with_x0[1:] = state\n",
    "\n",
    "\n",
    "new_state = beta[2] @ state_with_x0\n",
    "print(new_state)\n",
    "\n",
    "new_stack = (gamma1[2] @ state_with_x0) * stacks\n",
    "print(new_stack)\n",
    "\n",
    "def top_and_empty(stacks):\n",
    "    a = \"\"\n",
    "    b = \"\"\n",
    "    for q in stacks:\n",
    "        if q <= 1/2: a+= \"0\"\n",
    "        else: a += \"1\"\n",
    "\n",
    "        if q == 0: b += \"0\"\n",
    "        else: b += \"1\"\n",
    "\n",
    "    return int(a+b, base=2)\n",
    "\n",
    "\n",
    "new_state = state\n",
    "while new_state[0] != 1:\n",
    "    # get a1,a2,..,ap, b1,b2..,bp\n",
    "    apbp = top_and_empty(stacks)\n",
    "    x_0 = 1 - np.sum(new_state)\n",
    "    state_with_x0 = np.empty((s+1))\n",
    "    state_with_x0[0] = x_0\n",
    "    state_with_x0[1:] = new_state\n",
    "\n",
    "    new_state = beta[apbp] @ state_with_x0\n",
    "    print(new_state)\n",
    "    vsigma = np.vectorize(sigma)\n",
    "    new_stack = (gamma1[apbp] @ state_with_x0) * stacks + (gamma2[apbp] @ state_with_x0) * (stacks/4 + 1/4) + (gamma3[apbp] @ state_with_x0) * (stacks/4 + 3/4) + (gamma4[apbp] @ state_with_x0) * (4*stacks - 2*(vsigma(4*stacks-2)) - 1)\n",
    "    print(new_stack)"
   ]
  },
  {
   "cell_type": "markdown",
   "metadata": {},
   "source": [
    "\n",
    "### 2. Simulate a $\\mathcal{P}$ by a $\\sigma$-processor net\n",
    "\n",
    "Refer equation (10). Given $\\beta_{ij}$, we want to compute the coefficients $c_r$ such that\n",
    "$$\\beta_{ij}(a_1,...,a_p, b_1,...,b_p)x = \\sum_{r=1}^{2^{2p}} c_r \\sigma(v_r \\cdot \\mu)$$\n",
    "where $\\mu = [1, a_1,...,a_p, b_1,...,b_p, x] \\in \\mathbb{Z}^{2p + 2}$ is the input\n",
    "\n",
    "and $v_r \\in \\{0,1\\}^{2p + 2}$ are projection vectors such that $v_r$ selects $r$ symbols from $[a_1, a_2,.., b_1, b_2,..]$ in the dot product $v_r \\cdot \\mu$. \n",
    "\n",
    "$x$ is always selected so the last bit is 1 for all $v_r$. The first bit is the negative of the sum of number of ones in v_r[1]..v_r[p]. This is because of for any $l_1, l_2, ..., l_k \\in \\{0,1\\}$, the product\n",
    "$$l_1l_2...l_k = \\sigma(l_1 + l_2 + \\cdots + l_k - k + 1)$$\n",
    "\n",
    "\n",
    "E.g. for $p=2$, $v_0 = [0, 0, 0, 0, 0, 1]$ (no symbols selected), $v_1 = [-1, 1, 0, 0, 0, 1]$ and so on.\n",
    "\n",
    "To find $c_r's$ we note that $c_r's$ are the coefficients in the polynomial representation of  $\\beta_{ij}$. (See equation (12))\n",
    "$$\n",
    "\\begin{equation}\n",
    "\\beta_{ij}(a_1,...,a_p, b_1,...,b_p)x = c_1 + c_2a_1 + \\cdots + c_{2p+1}b_p\n",
    " + c_{2p+2}a_1a_2 \\cdots + c_{2^{2p}}a_1a_2...b_1..b_p\n",
    "\\end{equation}\n",
    "$$\n",
    "\n",
    "Now, given the maps $\\beta_{ij}$, we can set up $2^{2p}$ linear equations in $c_r$'s by substituing $a_1,...,a_p, b_1,...,b_p$ on the right hand side and the value $\\beta_{ij}(a_1,...,a_p, b_1,...,b_p)$ on the left hand side.\n",
    "$$Ax = b$$ \n",
    "where $x = [c_1, c_2,\\ldots,c_{2^{2p}}] \\in \\mathbb{Z}^{2^{2p}}$, $b = [\\beta_{ij}[00..00], \\beta_{ij}[00..01],\\ldots,\\beta_{ij}[11..11]] \\in \\{0,1\\}^{2^{2p}}$, and $A \\in \\{0,1\\}^{(2^{2p})\\times(2^{2p})}$ is the such that rows of $A$ represents substitutions of $a_1,...,a_p, b_1,...,b_p$ with $00..00, 00..01,\\ldots,11..11$ respectively on the right hand side of (1).\n",
    "\n",
    "There is some ingenuity required in computing $A$ efficiently (i.e. in constant time, instead of actually performing the substitutions) as shown in the code below.\n",
    "\n",
    "We can now use $\\verb|np.linalg.solve|$ to find $c_r$'s, for each of $\\beta_{ij}$ for $i = \\{1..s\\}, j=\\{0..s\\}$."
   ]
  },
  {
   "cell_type": "code",
   "execution_count": 5,
   "metadata": {},
   "outputs": [
    {
     "name": "stdout",
     "output_type": "stream",
     "text": [
      "Ac = b, c= [ 1. -1.  0.  1.  0.  1. -1. -1.  0.  0. -1.  1.  0. -1.  1.  1.]\n"
     ]
    }
   ],
   "source": [
    "# Given Beta_ij, compute c_ij_1 to c_ij_2^t by solving linear systems (t = 2p)\n",
    "# Linear system: Ax = b\n",
    "# How many such systems? ---> i*j for each i and j\n",
    "# What are A, x and b?\n",
    "# x = [c1, c2, .. c_2^t]\n",
    "# b = [Beta_ij[0000], Beta_ij[0001], .. Beta_ij[1111]]\n",
    "# A = lower triangular? No.\n",
    "def isCoeffPresent(x, y):\n",
    "    if ~(x | ~y) == 0: return 1\n",
    "    return 0\n",
    "    \n",
    "A = np.fromfunction(lambda x,y: ~(x | ~y) == 0, (16,16), dtype=int)\n",
    "A.astype(int)\n",
    "b = [1,0,1,1,1,1,0,0,1,0,0,1,1,0,0,1]\n",
    "c = np.linalg.solve(A, b)\n",
    "c.astype(int)\n",
    "print('Ac = b, c=', c)\n",
    "\n",
    "# F3 neuron: for state x_i, there's 2^2p of them\n",
    "# input: 1 a1,b1..ap,bp, x_i\n",
    "# parameters: 16 v_i's of shape 2p + 2, last bit always 1.. [-sum_of_1s, 0,1,..1,1, 1]\n",
    "# select none of di's, v0 = [0 0 0 0 0 1]\n",
    "# select d1, v1 = [-1 1 0 0 0 1]\n",
    "# select d1d2, v3 = [-2 1 1 0 0 1]\n",
    "# fixed, mu = [1 d1 d2 d3 d4 x], neuron computes sigma(v dot mu)\n",
    "def get_vi(i, n):\n",
    "    v = np.zeros((n), dtype=int)\n",
    "    j = 0\n",
    "    while i != 0:\n",
    "        d = i%2\n",
    "        v[j] = d\n",
    "        i = i//2\n",
    "        j+=1\n",
    "    v_ = np.empty(n+2, dtype=int)\n",
    "    v_[1:n+1] = v\n",
    "    v_[n+1] = 1\n",
    "    v_[0] = -np.sum(v)\n",
    "    return v_"
   ]
  },
  {
   "cell_type": "code",
   "execution_count": 6,
   "metadata": {},
   "outputs": [
    {
     "name": "stdout",
     "output_type": "stream",
     "text": [
      "(6, 7, 16)\n",
      "[[[ 1 -1  0  0 -1  1  0  0 -1  1  1 -1  1 -1 -1  1]\n",
      "  [ 1 -1  0  0  0  0 -1  1 -1  2  0  0  0 -1  2 -2]\n",
      "  [ 0  0  0  0  1 -1 -1  2  0  0  0  0 -1  1  1 -1]\n",
      "  [ 0  0  0  0  0  0  1  0  0  0  1  0  1 -1 -3  1]\n",
      "  [ 0  0  1 -1  1 -1 -2  2  0  1  0 -1 -1  0  1  1]\n",
      "  [ 0  0  0  0  1  0  0 -1  0  1  0 -1  0 -2  0  2]\n",
      "  [ 0  1  0 -1  1 -2  0  2  0  0  0  1  0  1 -1 -2]]\n",
      "\n",
      " [[ 1  0  0 -1 -1  0  0  2 -1  0  0  2  1  0  1 -4]\n",
      "  [ 0  0  0  0  0  0  0  0  1  0 -1  1 -1  0  1 -1]\n",
      "  [ 0  1  0 -1  1 -2 -1  2  1 -2 -1  3 -2  3  3 -5]\n",
      "  [ 0  0  0  0  0  0  0  0  0  0  0  1  0  0  1 -2]\n",
      "  [ 0  0  0  1  1  0 -1 -1  0  1  0 -2 -1 -1  2  2]\n",
      "  [ 0  0  0  0  0  1  1 -2  0  0  1 -1  1 -2 -3  4]\n",
      "  [ 0  0  1 -1  0  0 -1  1  0  0 -1  1  0  1  1 -2]]\n",
      "\n",
      " [[ 0  0  1  0  0  0 -1  1  0  0 -1  0  1  0  0 -1]\n",
      "  [ 0  0  1 -1  1 -1 -1  2  1 -1 -1  2 -2  2  1 -3]\n",
      "  [ 0  1  0  0  0 -1  0  0  0 -1  0  0  0  1  1 -1]\n",
      "  [ 0  1  1 -2  1 -2 -2  3  0 -1 -1  2 -1  2  2 -3]\n",
      "  [ 0  1  0 -1  0 -1  0  1  0  0  0  1  1 -1 -1  0]\n",
      "  [ 1 -1 -1  1  0  0  1 -1 -1  2  2 -3  0 -1 -2  3]\n",
      "  [ 0  1  0 -1  0  0  0  1  0 -1  0  1  0  0  0 -1]]\n",
      "\n",
      " [[ 1 -1 -1  2  0  0  0 -1  0  0  1 -1 -1  1  0  1]\n",
      "  [ 0  0  0  1  1 -1 -1  0  0  0  1 -2  0  0  0  1]\n",
      "  [ 0  0  1 -1  0  0  0  0  0  1  0 -1  0 -1  0  1]\n",
      "  [ 0  1  0 -1  1 -1 -1  1  0 -1  0  2 -1  2  1 -2]\n",
      "  [ 0  0  0  0  0  0  0  0  0  0  1 -1  0  1 -1  1]\n",
      "  [ 0  0  0  0  0  0  0  0  0  0  0  1  0  0  0 -1]\n",
      "  [ 1  0 -1  0 -1  1  1 -1 -1  0  2 -1  1 -1 -2  3]]\n",
      "\n",
      " [[ 0  1  0 -1  0  0  0  0  0 -1  0  1  0  0  0  0]\n",
      "  [ 1 -1 -1  2 -1  1  1 -2 -1  1  1 -1  2 -2 -2  3]\n",
      "  [ 0  1  0 -1  0 -1  0  1  1 -2 -1  2 -1  2  2 -3]\n",
      "  [ 0  0  0  0  1  0 -1  0  1 -1 -1  1 -2  1  2  0]\n",
      "  [ 1 -1  0  1  0  1 -1  0 -1  1  1 -2  0 -1  0  1]\n",
      "  [ 0  1  0 -1  0  0  0  0  0 -1  0  2  0  0  1 -2]\n",
      "  [ 0  1  0 -1  0 -1  1  0  1 -1 -1  2 -1  1  0  0]]\n",
      "\n",
      " [[ 0  0  0  0  0  0  0  0  1  0  0 -1  0  0 -1  1]\n",
      "  [ 1  0 -1  0 -1  1  2 -2 -1  1  2 -1  1 -2 -3  3]\n",
      "  [ 0  0  0  0  1  0 -1  0  1 -1 -1  2 -2  1  2 -1]\n",
      "  [ 0  1  0 -1  0 -1  0  2  0  0  1  0  1 -1 -1  0]\n",
      "  [ 1 -1  0  0  0  1 -1  0 -1  2  0  0  0 -2  1  0]\n",
      "  [ 1 -1 -1  1  0  0  0  1 -1  2  1 -2  1 -2 -1  1]\n",
      "  [ 0  0  0  0  1 -1 -1  2  1 -1 -1  2 -2  2  3 -5]]]\n"
     ]
    }
   ],
   "source": [
    "## Compute vectors c for each i,j of beta_ij\n",
    "\n",
    "A = np.fromfunction(lambda x,y: ~(x | ~y) == 0, (2**(2*p),2**(2*p)), dtype=int)\n",
    "c = np.empty((s,s+1, 2**(2*p)), dtype=int)\n",
    "print(c.shape)\n",
    "for i in range(s):\n",
    "    for j in range(s+1):\n",
    "        b = [beta[x][i][j] for x in range(2**(2*p))]\n",
    "        c[i][j] = np.linalg.solve(A, b)\n",
    "print(c)"
   ]
  },
  {
   "cell_type": "markdown",
   "metadata": {},
   "source": [
    "We now have the vectors $c \\in \\mathbb{Z}^{2^{2p}}$ for each of $i, j$ for each of $\\beta_{ij}$.\n",
    "\n",
    "For the gamma functions $\\gamma^1_{ij}, \\gamma^2_{ij}, \\gamma^3_{ij}, \\gamma^4_{ij}$ representing the next stack actions (no action, push0, push1, pop, respectively), we can compute coeffecient vectors $c$ in exactly the same manner as above.\n",
    "\n",
    "Currently we focus on computing the next states given the current state and contents of each stack.\n",
    "\n",
    "$$ (x_1, \\ldots, x_s, a_1,...,a_p, b_1,...,b_p) \\rightarrow (x_1^{+}, \\ldots, x_s^{+}) $$\n",
    "\n",
    "F4 neurons contain $x_i$'s. $x_i^{+}$ is computed in two steps.\n",
    "$$ x_i^{+} = \\sum_{j=0}^s{\\beta_{ij}(a_1,...,a_p, b_1,...,b_p)x_j} = \\sum_{j=0}^s{\\sum_{r=1}^{2^{2p}} c_r \\sigma(v_r \\cdot \\mu)}$$ \n",
    "\n",
    "F3 neurons compute each of the terms in the inner summation i.e. $\\sigma(v_r \\cdot \\mu)$. F2 neurons then compute the linear combination with $c_r$ and the outer summation, and hence the new states $x_i^{+}$\n",
    "\n",
    "Let's look at the map from F4 to F3, restricting our attention to $x_0, \\ldots, x_s, a_1,...,a_p, b_1,...,b_p$ in F4. F3 has for each $x_j$, $2^{2p}$ neurons. Hence, the shape of this map is $F_4: \\mathbb{Q}^{((s+1)2^{2p})\\times((s+1)+2p)}$.\n",
    "\n",
    "The $(s+1) + 2p + 1$ columns of this map correspond to $x_0, \\ldots, x_s, a_1,...,a_p, b_1,...,b_p$. The rows of this map are divided into $s+1$ groups of $2^{2p}$ rows in each group. The first group of rows selects $x_0$, the second group selects $x_1$ and so on and the $s+1$ th group selecting $x_s$ in the dot product with $\\mu$. In each group, the last $2p+1$ elements are that of $v_r$, where the $+1$ th element is the $-k$ from above equation. $F_4$ also applies saturation $\\sigma$ to the computed values.\n",
    "\n",
    "Now, we look at the map $F_3: \\mathbb{Q}^{(s+1)2^{2p}} \\rightarrow \\mathbb{Q}^{s}$ which computes the new states $x_i^{+}$ by performing linear combination with $c_r$'s. This map has the shape  $\\mathbb{Q}^{s \\times (s+1)2^{2p}}$. Each row $i$ is simply the coeffecient vectors $c_i$ stacked horizontally.\n",
    "\n",
    "The code below implements these two maps."
   ]
  },
  {
   "cell_type": "code",
   "execution_count": 11,
   "metadata": {},
   "outputs": [],
   "source": [
    "def get_vr(r, n):\n",
    "    v = np.zeros((n), dtype=int)\n",
    "    j = 0\n",
    "    while r != 0:\n",
    "        d = r%2\n",
    "        v[j] = d\n",
    "        r = r//2\n",
    "        j+=1\n",
    "    v_ = np.empty(n+1, dtype=int)\n",
    "    v_[:n] = v\n",
    "    v_[n] = -np.sum(v)\n",
    "    return v_\n",
    "\n",
    "#input vector of dimension (s+1) + 2p\n",
    "def F4(in_f4):\n",
    "    #Augment in_f4 with constant 1\n",
    "    in_f4 = np.hstack((in_f4, [1]))\n",
    "    #Construct the F4 map as described above\n",
    "    n_rows = (s+1) * (2**(2*p))\n",
    "    n_cols = s+1 + 2*p + 1\n",
    "    A = np.zeros((n_rows, n_cols), dtype=int)\n",
    "    for i in range(n_rows):\n",
    "        r = i % (2**(2*p)) #r is the index within row group\n",
    "        group_n = i // (2**(2*p)) #the group number\n",
    "        A[i][group_n] = 1\n",
    "        A[i][s+1:] = get_vr(r, 2*p)\n",
    "        vsigma = np.vectorize(sigma)\n",
    "    return vsigma(A @ in_f4)\n",
    "\n",
    "f4_vec = np.array([1, 0, 0, 0, 0, 0, 0, 0.25, 0, 1, 0], dtype=int)\n",
    "f4_out = F4(f4_vec)"
   ]
  },
  {
   "cell_type": "code",
   "execution_count": 12,
   "metadata": {},
   "outputs": [
    {
     "name": "stdout",
     "output_type": "stream",
     "text": [
      "(6, 7, 16)\n",
      "(6, 112)\n"
     ]
    },
    {
     "data": {
      "text/plain": [
       "array([0, 0, 0, 1, 0, 0])"
      ]
     },
     "execution_count": 12,
     "metadata": {},
     "output_type": "execute_result"
    }
   ],
   "source": [
    "## F3 map\n",
    "f4_out.shape\n",
    "\n",
    "#input vector of dimension (s+1)*(2^2p)\n",
    "def F3(in_f3):\n",
    "    #the param matrix is simply c[][] but squeezed into 1 dimension\n",
    "    A = np.reshape(c, (s, (s+1)*(2**(2*p))))\n",
    "    return A @ in_f3\n",
    "print(c.shape)\n",
    "cc = np.reshape(c, (s, (s+1)*(2**(2*p))))\n",
    "print(cc.shape)\n",
    "F3(F4(f4_vec))"
   ]
  },
  {
   "cell_type": "code",
   "execution_count": 13,
   "metadata": {},
   "outputs": [],
   "source": [
    "## TO-DO, implement next-stack action maps F2 and F1.\n",
    "## Then the code for complete RNN (Universal net) is:\n",
    "## while state != halting_state\n",
    "##     state = F1(F2(F3(F4(state))))\n",
    "## return state[index_of_stack_1] #contains encoding of the output.s"
   ]
  }
 ],
 "metadata": {
  "kernelspec": {
   "display_name": "Python 3.10.4 64-bit",
   "language": "python",
   "name": "python3"
  },
  "language_info": {
   "codemirror_mode": {
    "name": "ipython",
    "version": 3
   },
   "file_extension": ".py",
   "mimetype": "text/x-python",
   "name": "python",
   "nbconvert_exporter": "python",
   "pygments_lexer": "ipython3",
   "version": "3.10.6"
  },
  "orig_nbformat": 4,
  "vscode": {
   "interpreter": {
    "hash": "e7370f93d1d0cde622a1f8e1c04877d8463912d04d973331ad4851f04de6915a"
   }
  }
 },
 "nbformat": 4,
 "nbformat_minor": 2
}
